{
 "cells": [
  {
   "cell_type": "code",
   "execution_count": 1,
   "id": "65ec1050-bdd5-499c-a727-72bb9003660c",
   "metadata": {},
   "outputs": [],
   "source": [
    "import json\n",
    "import asyncio\n",
    "import time\n",
    "import httpx\n",
    "import aiohttp"
   ]
  },
  {
   "cell_type": "code",
   "execution_count": 2,
   "id": "40334df8-cdc4-4839-ae55-376a08a8f51f",
   "metadata": {},
   "outputs": [],
   "source": [
    "headers = {'Accept': 'Application/ld+json'}\n",
    "http_top_level_nav = httpx.get('https://glossary.ecoinvent.org', headers=headers)"
   ]
  },
  {
   "cell_type": "code",
   "execution_count": 3,
   "id": "8b1c45aa-983e-43ac-8e16-eb7cfa523f0e",
   "metadata": {},
   "outputs": [],
   "source": [
    "top_level_nav = json.loads(http_top_level_nav.text)"
   ]
  },
  {
   "cell_type": "code",
   "execution_count": 4,
   "id": "4ba55900-dbf7-4cde-87ee-d1e33b1e8fe6",
   "metadata": {},
   "outputs": [
    {
     "data": {
      "text/plain": [
       "'https://glossary.ecoinvent.org/intermediate-exchanges/'"
      ]
     },
     "execution_count": 4,
     "metadata": {},
     "output_type": "execute_result"
    }
   ],
   "source": [
    "top_level_nav[\"itemListElement\"][5][\"item\"][\"url\"]"
   ]
  },
  {
   "cell_type": "code",
   "execution_count": 5,
   "id": "eb37daf1-d49e-46e4-a6e0-eef2c497886b",
   "metadata": {},
   "outputs": [],
   "source": [
    "http_intermediate_exchange_nav = httpx.get(top_level_nav[\"itemListElement\"][5][\"item\"][\"url\"].replace(\"www.\", \"\"), headers=headers)"
   ]
  },
  {
   "cell_type": "code",
   "execution_count": 6,
   "id": "0a8c56d9-dbdd-4814-9a16-23d1bc3e1171",
   "metadata": {},
   "outputs": [],
   "source": [
    "intermediate_exchange_nav = json.loads(http_intermediate_exchange_nav.text)"
   ]
  },
  {
   "cell_type": "code",
   "execution_count": 7,
   "id": "29b412a3-c6be-4cdd-9b28-3b33ebfc0786",
   "metadata": {},
   "outputs": [
    {
     "data": {
      "text/plain": [
       "3837"
      ]
     },
     "execution_count": 7,
     "metadata": {},
     "output_type": "execute_result"
    }
   ],
   "source": [
    "intermediate_exchange_nav[\"numberOfItems\"]"
   ]
  },
  {
   "cell_type": "code",
   "execution_count": 9,
   "id": "031ca8c1-240a-43eb-b015-729eec789386",
   "metadata": {},
   "outputs": [
    {
     "data": {
      "text/plain": [
       "'https://glossary.ecoinvent.org/ids/5543d899-1cbd-4acf-a770-befd41102943/'"
      ]
     },
     "execution_count": 9,
     "metadata": {},
     "output_type": "execute_result"
    }
   ],
   "source": [
    "intermediate_exchange_nav[\"itemListElement\"][0][\"item\"][\"@id\"]"
   ]
  },
  {
   "cell_type": "code",
   "execution_count": 10,
   "id": "72fe1493-dce4-4b2b-8b1d-cb73a52fac47",
   "metadata": {},
   "outputs": [],
   "source": [
    "conn = aiohttp.TCPConnector(limit=None, ttl_dns_cache=300)\n",
    "session = aiohttp.ClientSession(connector=conn)"
   ]
  },
  {
   "cell_type": "code",
   "execution_count": 11,
   "id": "3b29d823-dea7-41a3-b936-73cd0eaa1d90",
   "metadata": {},
   "outputs": [],
   "source": [
    "async def gather_with_concurrency(n, *tasks):\n",
    "    semaphore = asyncio.Semaphore(n)\n",
    "\n",
    "    async def sem_task(task):\n",
    "        async with semaphore:\n",
    "            return await task\n",
    "\n",
    "    return await asyncio.gather(*(sem_task(task) for task in tasks))"
   ]
  },
  {
   "cell_type": "code",
   "execution_count": 12,
   "id": "ab9e06bc-5f0a-486d-b8d5-d2c3ec36289b",
   "metadata": {},
   "outputs": [],
   "source": [
    "async def get_async(url):\n",
    "    async with session.get(url[\"item\"][\"@id\"], headers=headers) as response:\n",
    "        return await response.read()"
   ]
  },
  {
   "cell_type": "code",
   "execution_count": 13,
   "id": "2c177733-2300-4ed2-a46a-ee432d4a02ec",
   "metadata": {},
   "outputs": [],
   "source": [
    "async def main():\n",
    "    s = time.perf_counter()\n",
    "    resps = await gather_with_concurrency(90, *map(get_async, intermediate_exchange_nav[\"itemListElement\"]))\n",
    "    data = [json.loads(resp) for resp in resps]\n",
    "    elapsed = time.perf_counter() - s\n",
    "    print(f\"{elapsed}s\")\n",
    "    return data"
   ]
  },
  {
   "cell_type": "code",
   "execution_count": 14,
   "id": "6deb40eb-c4db-4770-b6f6-881861c844ee",
   "metadata": {},
   "outputs": [
    {
     "name": "stdout",
     "output_type": "stream",
     "text": [
      "56.25303234299999s\n"
     ]
    }
   ],
   "source": [
    "all_int_ex = await main()"
   ]
  },
  {
   "cell_type": "code",
   "execution_count": 15,
   "id": "23914638-b689-4b94-948d-5cdd23ebee4d",
   "metadata": {},
   "outputs": [
    {
     "data": {
      "text/plain": [
       "<coroutine object ClientSession.close at 0x7ff836295540>"
      ]
     },
     "execution_count": 15,
     "metadata": {},
     "output_type": "execute_result"
    }
   ],
   "source": [
    "session.close()"
   ]
  },
  {
   "cell_type": "code",
   "execution_count": 17,
   "id": "ebfabc43-6280-4021-8916-e747f7ec5207",
   "metadata": {},
   "outputs": [],
   "source": [
    "int_ex = dict()\n",
    "for entry in all_int_ex:\n",
    "    int_ex[entry[\"slug\"]]=entry\n",
    "    "
   ]
  }
 ],
 "metadata": {
  "kernelspec": {
   "display_name": "Python 3 (ipykernel)",
   "language": "python",
   "name": "python3"
  },
  "language_info": {
   "codemirror_mode": {
    "name": "ipython",
    "version": 3
   },
   "file_extension": ".py",
   "mimetype": "text/x-python",
   "name": "python",
   "nbconvert_exporter": "python",
   "pygments_lexer": "ipython3",
   "version": "3.10.10"
  }
 },
 "nbformat": 4,
 "nbformat_minor": 5
}
