{
 "cells": [
  {
   "cell_type": "code",
   "execution_count": 1,
   "id": "65ec1050-bdd5-499c-a727-72bb9003660c",
   "metadata": {},
   "outputs": [],
   "source": [
    "import json\n",
    "import asyncio\n",
    "import time\n",
    "import httpx\n",
    "import aiohttp"
   ]
  },
  {
   "cell_type": "code",
   "execution_count": 2,
   "id": "40334df8-cdc4-4839-ae55-376a08a8f51f",
   "metadata": {},
   "outputs": [],
   "source": [
    "headers = {'Accept': 'Application/ld+json'}\n",
    "http_top_level_nav = httpx.get('https://glossary.ecoinvent.org', headers=headers)"
   ]
  },
  {
   "cell_type": "code",
   "execution_count": 3,
   "id": "8b1c45aa-983e-43ac-8e16-eb7cfa523f0e",
   "metadata": {},
   "outputs": [],
   "source": [
    "top_level_nav = json.loads(http_top_level_nav.text)"
   ]
  },
  {
   "cell_type": "code",
   "execution_count": 4,
   "id": "4ba55900-dbf7-4cde-87ee-d1e33b1e8fe6",
   "metadata": {},
   "outputs": [
    {
     "data": {
      "text/plain": [
       "'https://glossary.ecoinvent.org/intermediate-exchanges/'"
      ]
     },
     "execution_count": 4,
     "metadata": {},
     "output_type": "execute_result"
    }
   ],
   "source": [
    "top_level_nav[\"itemListElement\"][5][\"item\"][\"url\"]"
   ]
  },
  {
   "cell_type": "code",
   "execution_count": 5,
   "id": "eb37daf1-d49e-46e4-a6e0-eef2c497886b",
   "metadata": {},
   "outputs": [],
   "source": [
    "http_intermediate_exchange_nav = httpx.get(top_level_nav[\"itemListElement\"][5][\"item\"][\"url\"].replace(\"www.\", \"\"), headers=headers)"
   ]
  },
  {
   "cell_type": "code",
   "execution_count": 6,
   "id": "0a8c56d9-dbdd-4814-9a16-23d1bc3e1171",
   "metadata": {},
   "outputs": [],
   "source": [
    "intermediate_exchange_nav = json.loads(http_intermediate_exchange_nav.text)"
   ]
  },
  {
   "cell_type": "code",
   "execution_count": 7,
   "id": "29b412a3-c6be-4cdd-9b28-3b33ebfc0786",
   "metadata": {},
   "outputs": [
    {
     "data": {
      "text/plain": [
       "3837"
      ]
     },
     "execution_count": 7,
     "metadata": {},
     "output_type": "execute_result"
    }
   ],
   "source": [
    "intermediate_exchange_nav[\"numberOfItems\"]"
   ]
  },
  {
   "cell_type": "code",
   "execution_count": 8,
   "id": "031ca8c1-240a-43eb-b015-729eec789386",
   "metadata": {},
   "outputs": [
    {
     "data": {
      "text/plain": [
       "'https://glossary.ecoinvent.org/ids/5543d899-1cbd-4acf-a770-befd41102943/'"
      ]
     },
     "execution_count": 8,
     "metadata": {},
     "output_type": "execute_result"
    }
   ],
   "source": [
    "intermediate_exchange_nav[\"itemListElement\"][0][\"item\"][\"@id\"]"
   ]
  },
  {
   "cell_type": "code",
   "execution_count": 9,
   "id": "72fe1493-dce4-4b2b-8b1d-cb73a52fac47",
   "metadata": {},
   "outputs": [],
   "source": [
    "conn = aiohttp.TCPConnector(limit=None, ttl_dns_cache=300)\n",
    "session = aiohttp.ClientSession(connector=conn)"
   ]
  },
  {
   "cell_type": "code",
   "execution_count": 10,
   "id": "3b29d823-dea7-41a3-b936-73cd0eaa1d90",
   "metadata": {},
   "outputs": [],
   "source": [
    "async def gather_with_concurrency(n, *tasks):\n",
    "    semaphore = asyncio.Semaphore(n)\n",
    "\n",
    "    async def sem_task(task):\n",
    "        async with semaphore:\n",
    "            return await task\n",
    "\n",
    "    return await asyncio.gather(*(sem_task(task) for task in tasks))"
   ]
  },
  {
   "cell_type": "code",
   "execution_count": 11,
   "id": "ab9e06bc-5f0a-486d-b8d5-d2c3ec36289b",
   "metadata": {},
   "outputs": [],
   "source": [
    "async def get_async(url):\n",
    "    async with session.get(url[\"item\"][\"@id\"], headers=headers) as response:\n",
    "        return await response.read()"
   ]
  },
  {
   "cell_type": "code",
   "execution_count": 12,
   "id": "2c177733-2300-4ed2-a46a-ee432d4a02ec",
   "metadata": {},
   "outputs": [],
   "source": [
    "async def main():\n",
    "    s = time.perf_counter()\n",
    "    resps = await gather_with_concurrency(90, *map(get_async, intermediate_exchange_nav[\"itemListElement\"]))\n",
    "    data = [json.loads(resp) for resp in resps]\n",
    "    elapsed = time.perf_counter() - s\n",
    "    print(f\"{elapsed}s\")\n",
    "    return data"
   ]
  },
  {
   "cell_type": "code",
   "execution_count": 13,
   "id": "6deb40eb-c4db-4770-b6f6-881861c844ee",
   "metadata": {},
   "outputs": [
    {
     "name": "stdout",
     "output_type": "stream",
     "text": [
      "5.021055700010038s\n"
     ]
    }
   ],
   "source": [
    "all_int_ex = await main()"
   ]
  },
  {
   "cell_type": "code",
   "execution_count": 14,
   "id": "23914638-b689-4b94-948d-5cdd23ebee4d",
   "metadata": {},
   "outputs": [
    {
     "data": {
      "text/plain": [
       "<coroutine object ClientSession.close at 0x000001943F224E80>"
      ]
     },
     "execution_count": 14,
     "metadata": {},
     "output_type": "execute_result"
    }
   ],
   "source": [
    "session.close()"
   ]
  },
  {
   "cell_type": "code",
   "execution_count": 15,
   "id": "ebfabc43-6280-4021-8916-e747f7ec5207",
   "metadata": {},
   "outputs": [],
   "source": [
    "int_ex = dict()\n",
    "for entry in all_int_ex:\n",
    "    int_ex[entry[\"slug\"]]=entry\n",
    "    "
   ]
  },
  {
   "cell_type": "markdown",
   "id": "d19fbc9d",
   "metadata": {},
   "source": [
    "### Ecoinvent API dataframe"
   ]
  },
  {
   "cell_type": "code",
   "execution_count": 30,
   "id": "81d7241e",
   "metadata": {
    "scrolled": false
   },
   "outputs": [],
   "source": [
    "import pandas as pd\n",
    "df =  pd.DataFrame(int_ex).transpose()"
   ]
  },
  {
   "cell_type": "code",
   "execution_count": 31,
   "id": "4f60fbd7",
   "metadata": {},
   "outputs": [],
   "source": [
    "df_transport = df.filter(like='transport', axis=0)"
   ]
  },
  {
   "cell_type": "code",
   "execution_count": 42,
   "id": "00435c2e",
   "metadata": {},
   "outputs": [
    {
     "data": {
      "text/html": [
       "<div>\n",
       "<style scoped>\n",
       "    .dataframe tbody tr th:only-of-type {\n",
       "        vertical-align: middle;\n",
       "    }\n",
       "\n",
       "    .dataframe tbody tr th {\n",
       "        vertical-align: top;\n",
       "    }\n",
       "\n",
       "    .dataframe thead th {\n",
       "        text-align: right;\n",
       "    }\n",
       "</style>\n",
       "<table border=\"1\" class=\"dataframe\">\n",
       "  <thead>\n",
       "    <tr style=\"text-align: right;\">\n",
       "      <th></th>\n",
       "      <th>@context</th>\n",
       "      <th>@id</th>\n",
       "      <th>@type</th>\n",
       "      <th>uuid</th>\n",
       "      <th>slug</th>\n",
       "      <th>name</th>\n",
       "      <th>cas_number</th>\n",
       "      <th>classifications</th>\n",
       "      <th>comment</th>\n",
       "      <th>unit</th>\n",
       "      <th>properties</th>\n",
       "      <th>product_information</th>\n",
       "      <th>formula</th>\n",
       "      <th>synonym</th>\n",
       "    </tr>\n",
       "  </thead>\n",
       "  <tbody>\n",
       "    <tr>\n",
       "      <th>heat-transport-fluid-system-solar-thermal-parabolic-trough-50-mw</th>\n",
       "      <td>https://glossary.ecoinvent.org/ld-contexts/glo...</td>\n",
       "      <td>https://glossary.ecoinvent.org/ids/b2c93044-62...</td>\n",
       "      <td>ei:intermediate-exchange</td>\n",
       "      <td>b2c93044-6228-4950-833f-230346726d61</td>\n",
       "      <td>heat-transport-fluid-system-solar-thermal-para...</td>\n",
       "      <td>heat transport fluid system, solar thermal par...</td>\n",
       "      <td>None</td>\n",
       "      <td>[{'@context': 'https://glossary.ecoinvent.org/...</td>\n",
       "      <td>None</td>\n",
       "      <td>{'@context': 'https://glossary.ecoinvent.org/l...</td>\n",
       "      <td>[]</td>\n",
       "      <td>This is an immobile infrastructure, representi...</td>\n",
       "      <td>None</td>\n",
       "      <td>[]</td>\n",
       "    </tr>\n",
       "    <tr>\n",
       "      <th>transport-freight-aircraft-long-haul</th>\n",
       "      <td>https://glossary.ecoinvent.org/ld-contexts/glo...</td>\n",
       "      <td>https://glossary.ecoinvent.org/ids/3317126a-4d...</td>\n",
       "      <td>ei:intermediate-exchange</td>\n",
       "      <td>3317126a-4dd7-4047-9ccf-163f94382c94</td>\n",
       "      <td>transport-freight-aircraft-long-haul</td>\n",
       "      <td>transport, freight, aircraft, long haul</td>\n",
       "      <td>None</td>\n",
       "      <td>[{'@context': 'https://glossary.ecoinvent.org/...</td>\n",
       "      <td>None</td>\n",
       "      <td>{'@context': 'https://glossary.ecoinvent.org/l...</td>\n",
       "      <td>[]</td>\n",
       "      <td>This is delivering the service of transportati...</td>\n",
       "      <td>None</td>\n",
       "      <td>[]</td>\n",
       "    </tr>\n",
       "    <tr>\n",
       "      <th>transport-freight-aircraft-medium-haul</th>\n",
       "      <td>https://glossary.ecoinvent.org/ld-contexts/glo...</td>\n",
       "      <td>https://glossary.ecoinvent.org/ids/220fe333-53...</td>\n",
       "      <td>ei:intermediate-exchange</td>\n",
       "      <td>220fe333-5329-4a8d-b012-1db429f2383b</td>\n",
       "      <td>transport-freight-aircraft-medium-haul</td>\n",
       "      <td>transport, freight, aircraft, medium haul</td>\n",
       "      <td>None</td>\n",
       "      <td>[{'@context': 'https://glossary.ecoinvent.org/...</td>\n",
       "      <td>None</td>\n",
       "      <td>{'@context': 'https://glossary.ecoinvent.org/l...</td>\n",
       "      <td>[]</td>\n",
       "      <td>This is delivering the service of transportati...</td>\n",
       "      <td>None</td>\n",
       "      <td>[]</td>\n",
       "    </tr>\n",
       "    <tr>\n",
       "      <th>transport-freight-aircraft-short-haul</th>\n",
       "      <td>https://glossary.ecoinvent.org/ld-contexts/glo...</td>\n",
       "      <td>https://glossary.ecoinvent.org/ids/07ad9bb5-f5...</td>\n",
       "      <td>ei:intermediate-exchange</td>\n",
       "      <td>07ad9bb5-f5d3-4e09-ac39-a6dcbb13a0ba</td>\n",
       "      <td>transport-freight-aircraft-short-haul</td>\n",
       "      <td>transport, freight, aircraft, short haul</td>\n",
       "      <td>None</td>\n",
       "      <td>[{'@context': 'https://glossary.ecoinvent.org/...</td>\n",
       "      <td>None</td>\n",
       "      <td>{'@context': 'https://glossary.ecoinvent.org/l...</td>\n",
       "      <td>[]</td>\n",
       "      <td>This is delivering the service of transportati...</td>\n",
       "      <td>None</td>\n",
       "      <td>[]</td>\n",
       "    </tr>\n",
       "    <tr>\n",
       "      <th>transport-freight-aircraft-unspecified</th>\n",
       "      <td>https://glossary.ecoinvent.org/ld-contexts/glo...</td>\n",
       "      <td>https://glossary.ecoinvent.org/ids/8795dc98-b6...</td>\n",
       "      <td>ei:intermediate-exchange</td>\n",
       "      <td>8795dc98-b6c7-4f09-be36-66739ea84900</td>\n",
       "      <td>transport-freight-aircraft-unspecified</td>\n",
       "      <td>transport, freight, aircraft, unspecified</td>\n",
       "      <td>None</td>\n",
       "      <td>[{'@context': 'https://glossary.ecoinvent.org/...</td>\n",
       "      <td>None</td>\n",
       "      <td>{'@context': 'https://glossary.ecoinvent.org/l...</td>\n",
       "      <td>[]</td>\n",
       "      <td>This is delivering the service of transportati...</td>\n",
       "      <td>None</td>\n",
       "      <td>[]</td>\n",
       "    </tr>\n",
       "  </tbody>\n",
       "</table>\n",
       "</div>"
      ],
      "text/plain": [
       "                                                                                             @context  \\\n",
       "heat-transport-fluid-system-solar-thermal-parab...  https://glossary.ecoinvent.org/ld-contexts/glo...   \n",
       "transport-freight-aircraft-long-haul                https://glossary.ecoinvent.org/ld-contexts/glo...   \n",
       "transport-freight-aircraft-medium-haul              https://glossary.ecoinvent.org/ld-contexts/glo...   \n",
       "transport-freight-aircraft-short-haul               https://glossary.ecoinvent.org/ld-contexts/glo...   \n",
       "transport-freight-aircraft-unspecified              https://glossary.ecoinvent.org/ld-contexts/glo...   \n",
       "\n",
       "                                                                                                  @id  \\\n",
       "heat-transport-fluid-system-solar-thermal-parab...  https://glossary.ecoinvent.org/ids/b2c93044-62...   \n",
       "transport-freight-aircraft-long-haul                https://glossary.ecoinvent.org/ids/3317126a-4d...   \n",
       "transport-freight-aircraft-medium-haul              https://glossary.ecoinvent.org/ids/220fe333-53...   \n",
       "transport-freight-aircraft-short-haul               https://glossary.ecoinvent.org/ids/07ad9bb5-f5...   \n",
       "transport-freight-aircraft-unspecified              https://glossary.ecoinvent.org/ids/8795dc98-b6...   \n",
       "\n",
       "                                                                       @type  \\\n",
       "heat-transport-fluid-system-solar-thermal-parab...  ei:intermediate-exchange   \n",
       "transport-freight-aircraft-long-haul                ei:intermediate-exchange   \n",
       "transport-freight-aircraft-medium-haul              ei:intermediate-exchange   \n",
       "transport-freight-aircraft-short-haul               ei:intermediate-exchange   \n",
       "transport-freight-aircraft-unspecified              ei:intermediate-exchange   \n",
       "\n",
       "                                                                                    uuid  \\\n",
       "heat-transport-fluid-system-solar-thermal-parab...  b2c93044-6228-4950-833f-230346726d61   \n",
       "transport-freight-aircraft-long-haul                3317126a-4dd7-4047-9ccf-163f94382c94   \n",
       "transport-freight-aircraft-medium-haul              220fe333-5329-4a8d-b012-1db429f2383b   \n",
       "transport-freight-aircraft-short-haul               07ad9bb5-f5d3-4e09-ac39-a6dcbb13a0ba   \n",
       "transport-freight-aircraft-unspecified              8795dc98-b6c7-4f09-be36-66739ea84900   \n",
       "\n",
       "                                                                                                 slug  \\\n",
       "heat-transport-fluid-system-solar-thermal-parab...  heat-transport-fluid-system-solar-thermal-para...   \n",
       "transport-freight-aircraft-long-haul                             transport-freight-aircraft-long-haul   \n",
       "transport-freight-aircraft-medium-haul                         transport-freight-aircraft-medium-haul   \n",
       "transport-freight-aircraft-short-haul                           transport-freight-aircraft-short-haul   \n",
       "transport-freight-aircraft-unspecified                         transport-freight-aircraft-unspecified   \n",
       "\n",
       "                                                                                                 name  \\\n",
       "heat-transport-fluid-system-solar-thermal-parab...  heat transport fluid system, solar thermal par...   \n",
       "transport-freight-aircraft-long-haul                          transport, freight, aircraft, long haul   \n",
       "transport-freight-aircraft-medium-haul                      transport, freight, aircraft, medium haul   \n",
       "transport-freight-aircraft-short-haul                        transport, freight, aircraft, short haul   \n",
       "transport-freight-aircraft-unspecified                      transport, freight, aircraft, unspecified   \n",
       "\n",
       "                                                   cas_number  \\\n",
       "heat-transport-fluid-system-solar-thermal-parab...       None   \n",
       "transport-freight-aircraft-long-haul                     None   \n",
       "transport-freight-aircraft-medium-haul                   None   \n",
       "transport-freight-aircraft-short-haul                    None   \n",
       "transport-freight-aircraft-unspecified                   None   \n",
       "\n",
       "                                                                                      classifications  \\\n",
       "heat-transport-fluid-system-solar-thermal-parab...  [{'@context': 'https://glossary.ecoinvent.org/...   \n",
       "transport-freight-aircraft-long-haul                [{'@context': 'https://glossary.ecoinvent.org/...   \n",
       "transport-freight-aircraft-medium-haul              [{'@context': 'https://glossary.ecoinvent.org/...   \n",
       "transport-freight-aircraft-short-haul               [{'@context': 'https://glossary.ecoinvent.org/...   \n",
       "transport-freight-aircraft-unspecified              [{'@context': 'https://glossary.ecoinvent.org/...   \n",
       "\n",
       "                                                   comment  \\\n",
       "heat-transport-fluid-system-solar-thermal-parab...    None   \n",
       "transport-freight-aircraft-long-haul                  None   \n",
       "transport-freight-aircraft-medium-haul                None   \n",
       "transport-freight-aircraft-short-haul                 None   \n",
       "transport-freight-aircraft-unspecified                None   \n",
       "\n",
       "                                                                                                 unit  \\\n",
       "heat-transport-fluid-system-solar-thermal-parab...  {'@context': 'https://glossary.ecoinvent.org/l...   \n",
       "transport-freight-aircraft-long-haul                {'@context': 'https://glossary.ecoinvent.org/l...   \n",
       "transport-freight-aircraft-medium-haul              {'@context': 'https://glossary.ecoinvent.org/l...   \n",
       "transport-freight-aircraft-short-haul               {'@context': 'https://glossary.ecoinvent.org/l...   \n",
       "transport-freight-aircraft-unspecified              {'@context': 'https://glossary.ecoinvent.org/l...   \n",
       "\n",
       "                                                   properties  \\\n",
       "heat-transport-fluid-system-solar-thermal-parab...         []   \n",
       "transport-freight-aircraft-long-haul                       []   \n",
       "transport-freight-aircraft-medium-haul                     []   \n",
       "transport-freight-aircraft-short-haul                      []   \n",
       "transport-freight-aircraft-unspecified                     []   \n",
       "\n",
       "                                                                                  product_information  \\\n",
       "heat-transport-fluid-system-solar-thermal-parab...  This is an immobile infrastructure, representi...   \n",
       "transport-freight-aircraft-long-haul                This is delivering the service of transportati...   \n",
       "transport-freight-aircraft-medium-haul              This is delivering the service of transportati...   \n",
       "transport-freight-aircraft-short-haul               This is delivering the service of transportati...   \n",
       "transport-freight-aircraft-unspecified              This is delivering the service of transportati...   \n",
       "\n",
       "                                                   formula synonym  \n",
       "heat-transport-fluid-system-solar-thermal-parab...    None      []  \n",
       "transport-freight-aircraft-long-haul                  None      []  \n",
       "transport-freight-aircraft-medium-haul                None      []  \n",
       "transport-freight-aircraft-short-haul                 None      []  \n",
       "transport-freight-aircraft-unspecified                None      []  "
      ]
     },
     "execution_count": 42,
     "metadata": {},
     "output_type": "execute_result"
    }
   ],
   "source": [
    "ecoinvent_names = df_transport[\"name\"].tolist()\n",
    "df_transport.head()"
   ]
  },
  {
   "cell_type": "markdown",
   "id": "ce2f3aaa",
   "metadata": {},
   "source": [
    "### Get Hestia Data"
   ]
  },
  {
   "cell_type": "code",
   "execution_count": 78,
   "id": "3cce0f6b",
   "metadata": {},
   "outputs": [],
   "source": [
    "import requests\n",
    "def get_hestia_transport_terms():\n",
    "    x = requests.post('https://api.hestia.earth/search',\n",
    "                      headers={'accept': 'application/json', 'Content-Type': 'application/json'},\n",
    "                      json={\"limit\":1000,\"offset\":0,\n",
    "                          \"query\": {\n",
    "                              \"bool\": {\n",
    "                                  \"must\": [\n",
    "                                      {\n",
    "                                          \"match\": {\n",
    "                                              \"termType\": \"Transport\"\n",
    "                                          }\n",
    "                                      },\n",
    "                                      {\n",
    "                                          \"match\": {\n",
    "                                              \"@type\": \"Term\"\n",
    "                                          }\n",
    "                                      }\n",
    "                                  ]\n",
    "                              }\n",
    "                          }\n",
    "                      })\n",
    "    return x.json()['results']"
   ]
  },
  {
   "cell_type": "markdown",
   "id": "3b8ff260",
   "metadata": {},
   "source": [
    "### Hestia dataframe"
   ]
  },
  {
   "cell_type": "code",
   "execution_count": 79,
   "id": "7a3975f0",
   "metadata": {},
   "outputs": [],
   "source": [
    "df_hestia = pd.DataFrame(get_hestia_transport_terms())"
   ]
  }
 ],
 "metadata": {
  "kernelspec": {
   "display_name": "Python 3 (ipykernel)",
   "language": "python",
   "name": "python3"
  },
  "language_info": {
   "codemirror_mode": {
    "name": "ipython",
    "version": 3
   },
   "file_extension": ".py",
   "mimetype": "text/x-python",
   "name": "python",
   "nbconvert_exporter": "python",
   "pygments_lexer": "ipython3",
   "version": "3.11.5"
  }
 },
 "nbformat": 4,
 "nbformat_minor": 5
}
